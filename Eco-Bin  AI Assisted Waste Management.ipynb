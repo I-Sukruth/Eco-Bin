{
 "cells": [
  {
   "cell_type": "markdown",
   "id": "7fbaf94f-016a-4fee-955b-a4d58767dca7",
   "metadata": {},
   "source": [
    "## Import necessary libraries"
   ]
  },
  {
   "cell_type": "code",
   "execution_count": 1,
   "id": "21acfcab-16d3-4319-995b-b9bf9e806c55",
   "metadata": {},
   "outputs": [],
   "source": [
    "import tensorflow as tf\n",
    "from tensorflow.keras.applications import VGG16\n",
    "from tensorflow.keras.models import Sequential\n",
    "from tensorflow.keras.layers import Flatten, Dense, Dropout\n",
    "from tensorflow.keras.preprocessing.image import ImageDataGenerator\n",
    "from tensorflow.keras.optimizers import Adam\n",
    "import warnings\n",
    "warnings.filterwarnings(\"ignore\", category=UserWarning, module='keras')"
   ]
  },
  {
   "cell_type": "markdown",
   "id": "e0a5dade-2da9-4d3b-8c93-e896702f2575",
   "metadata": {},
   "source": [
    "## Data Augmentation and Normalization for training and validation data"
   ]
  },
  {
   "cell_type": "code",
   "execution_count": 11,
   "id": "6a06e931-7cea-4ed7-9d6a-4cb14dd24815",
   "metadata": {},
   "outputs": [
    {
     "name": "stdout",
     "output_type": "stream",
     "text": [
      "Found 12414 images belonging to 12 classes.\n",
      "Found 3100 images belonging to 12 classes.\n"
     ]
    }
   ],
   "source": [
    "train_datagen = ImageDataGenerator(\n",
    "    rescale=1./255,  \n",
    "    shear_range=0.2,  # shear transformations\n",
    "    zoom_range=0.2,   # random zoom\n",
    "    horizontal_flip=True,  # horizontal flips\n",
    "    validation_split=0.2  # Set 20% of training data as validation data\n",
    ")\n",
    "\n",
    "# Rescale validation data\n",
    "test_datagen = ImageDataGenerator(rescale=1./255)\n",
    "\n",
    "# Training data generator\n",
    "train_generator = train_datagen.flow_from_directory(\n",
    "    r'C:\\Users\\Admin\\Documents\\Jupyter Notebook\\AI Project\\garbage_classification',\n",
    "    target_size=(128, 128),\n",
    "    batch_size=64,  \n",
    "    class_mode='categorical',\n",
    "    subset='training'\n",
    ")\n",
    "\n",
    "# Validation data generator\n",
    "validation_generator = train_datagen.flow_from_directory(\n",
    "    r'C:\\Users\\Admin\\Documents\\Jupyter Notebook\\AI Project\\garbage_classification',\n",
    "    target_size=(128, 128),\n",
    "    batch_size=64,\n",
    "    class_mode='categorical',\n",
    "    subset='validation'\n",
    ")"
   ]
  },
  {
   "cell_type": "code",
   "execution_count": 12,
   "id": "a7e8e77a-8659-4a7d-9683-8076f5c71056",
   "metadata": {},
   "outputs": [],
   "source": [
    "# Load the VGG16 model pre-trained on ImageNet\n",
    "base_model = VGG16(weights='imagenet', include_top=False, input_shape=(128, 128, 3))\n",
    "\n",
    "# Freeze the VGG16 base layers so they don't get updated during training\n",
    "for layer in base_model.layers:\n",
    "    layer.trainable = False"
   ]
  },
  {
   "cell_type": "markdown",
   "id": "94e6e717-8b79-4798-a393-c23f972a6000",
   "metadata": {},
   "source": [
    "## Build a new model"
   ]
  },
  {
   "cell_type": "code",
   "execution_count": 13,
   "id": "35f408b8-f1f9-4aa3-bbc5-13d95d50c42c",
   "metadata": {},
   "outputs": [],
   "source": [
    "model = Sequential()\n",
    "\n",
    "# Add the VGG16 base model\n",
    "model.add(base_model)\n",
    "\n",
    "# Flatten the output of the VGG16 model\n",
    "model.add(Flatten())\n",
    "\n",
    "# Add a Dense layer\n",
    "model.add(Dense(256, activation='relu'))\n",
    "\n",
    "# Add a Dropout layer (to reduce overfitting)\n",
    "model.add(Dropout(0.5))\n",
    "\n",
    "# Add the final Dense layer (for classification)\n",
    "model.add(Dense(12, activation='softmax'))"
   ]
  },
  {
   "cell_type": "markdown",
   "id": "118b607c-d7fe-40f6-8b88-0a1432b998ca",
   "metadata": {},
   "source": [
    "## Compile the model with updated optimizer"
   ]
  },
  {
   "cell_type": "code",
   "execution_count": 14,
   "id": "61d6bfd6-7dac-4161-a654-6ce82641c7ab",
   "metadata": {},
   "outputs": [],
   "source": [
    "model.compile(optimizer=Adam(learning_rate=0.0001),loss='categorical_crossentropy',metrics=['accuracy'])"
   ]
  },
  {
   "cell_type": "markdown",
   "id": "8e2d5cf7-373d-42d9-997a-844790a3a7a7",
   "metadata": {},
   "source": [
    "## Train the model"
   ]
  },
  {
   "cell_type": "code",
   "execution_count": 15,
   "id": "6591c116-03ac-4382-9e2f-67876e4a3931",
   "metadata": {},
   "outputs": [
    {
     "name": "stdout",
     "output_type": "stream",
     "text": [
      "Epoch 1/30\n",
      "\u001b[1m194/194\u001b[0m \u001b[32m━━━━━━━━━━━━━━━━━━━━\u001b[0m\u001b[37m\u001b[0m \u001b[1m328s\u001b[0m 2s/step - accuracy: 0.5036 - loss: 1.6272 - val_accuracy: 0.6987 - val_loss: 0.9137\n",
      "Epoch 2/30\n",
      "\u001b[1m194/194\u001b[0m \u001b[32m━━━━━━━━━━━━━━━━━━━━\u001b[0m\u001b[37m\u001b[0m \u001b[1m323s\u001b[0m 2s/step - accuracy: 0.7547 - loss: 0.8041 - val_accuracy: 0.7581 - val_loss: 0.7428\n",
      "Epoch 3/30\n",
      "\u001b[1m194/194\u001b[0m \u001b[32m━━━━━━━━━━━━━━━━━━━━\u001b[0m\u001b[37m\u001b[0m \u001b[1m322s\u001b[0m 2s/step - accuracy: 0.8073 - loss: 0.6355 - val_accuracy: 0.7761 - val_loss: 0.6774\n",
      "Epoch 4/30\n",
      "\u001b[1m194/194\u001b[0m \u001b[32m━━━━━━━━━━━━━━━━━━━━\u001b[0m\u001b[37m\u001b[0m \u001b[1m322s\u001b[0m 2s/step - accuracy: 0.8178 - loss: 0.5828 - val_accuracy: 0.8029 - val_loss: 0.6039\n",
      "Epoch 5/30\n",
      "\u001b[1m194/194\u001b[0m \u001b[32m━━━━━━━━━━━━━━━━━━━━\u001b[0m\u001b[37m\u001b[0m \u001b[1m323s\u001b[0m 2s/step - accuracy: 0.8434 - loss: 0.5114 - val_accuracy: 0.8094 - val_loss: 0.5834\n",
      "Epoch 6/30\n",
      "\u001b[1m194/194\u001b[0m \u001b[32m━━━━━━━━━━━━━━━━━━━━\u001b[0m\u001b[37m\u001b[0m \u001b[1m323s\u001b[0m 2s/step - accuracy: 0.8519 - loss: 0.4794 - val_accuracy: 0.8239 - val_loss: 0.5508\n",
      "Epoch 7/30\n",
      "\u001b[1m194/194\u001b[0m \u001b[32m━━━━━━━━━━━━━━━━━━━━\u001b[0m\u001b[37m\u001b[0m \u001b[1m323s\u001b[0m 2s/step - accuracy: 0.8645 - loss: 0.4378 - val_accuracy: 0.8171 - val_loss: 0.5475\n",
      "Epoch 8/30\n",
      "\u001b[1m194/194\u001b[0m \u001b[32m━━━━━━━━━━━━━━━━━━━━\u001b[0m\u001b[37m\u001b[0m \u001b[1m340s\u001b[0m 2s/step - accuracy: 0.8670 - loss: 0.4191 - val_accuracy: 0.8103 - val_loss: 0.5559\n",
      "Epoch 9/30\n",
      "\u001b[1m194/194\u001b[0m \u001b[32m━━━━━━━━━━━━━━━━━━━━\u001b[0m\u001b[37m\u001b[0m \u001b[1m324s\u001b[0m 2s/step - accuracy: 0.8775 - loss: 0.3933 - val_accuracy: 0.8294 - val_loss: 0.5171\n",
      "Epoch 10/30\n",
      "\u001b[1m194/194\u001b[0m \u001b[32m━━━━━━━━━━━━━━━━━━━━\u001b[0m\u001b[37m\u001b[0m \u001b[1m323s\u001b[0m 2s/step - accuracy: 0.8805 - loss: 0.3798 - val_accuracy: 0.8342 - val_loss: 0.5023\n",
      "Epoch 11/30\n",
      "\u001b[1m194/194\u001b[0m \u001b[32m━━━━━━━━━━━━━━━━━━━━\u001b[0m\u001b[37m\u001b[0m \u001b[1m323s\u001b[0m 2s/step - accuracy: 0.8903 - loss: 0.3518 - val_accuracy: 0.8335 - val_loss: 0.5034\n",
      "Epoch 12/30\n",
      "\u001b[1m194/194\u001b[0m \u001b[32m━━━━━━━━━━━━━━━━━━━━\u001b[0m\u001b[37m\u001b[0m \u001b[1m322s\u001b[0m 2s/step - accuracy: 0.8915 - loss: 0.3458 - val_accuracy: 0.8274 - val_loss: 0.5158\n",
      "Epoch 13/30\n",
      "\u001b[1m194/194\u001b[0m \u001b[32m━━━━━━━━━━━━━━━━━━━━\u001b[0m\u001b[37m\u001b[0m \u001b[1m323s\u001b[0m 2s/step - accuracy: 0.8977 - loss: 0.3208 - val_accuracy: 0.8423 - val_loss: 0.4794\n",
      "Epoch 14/30\n",
      "\u001b[1m194/194\u001b[0m \u001b[32m━━━━━━━━━━━━━━━━━━━━\u001b[0m\u001b[37m\u001b[0m \u001b[1m322s\u001b[0m 2s/step - accuracy: 0.8973 - loss: 0.3060 - val_accuracy: 0.8416 - val_loss: 0.4883\n",
      "Epoch 15/30\n",
      "\u001b[1m194/194\u001b[0m \u001b[32m━━━━━━━━━━━━━━━━━━━━\u001b[0m\u001b[37m\u001b[0m \u001b[1m327s\u001b[0m 2s/step - accuracy: 0.9051 - loss: 0.2941 - val_accuracy: 0.8442 - val_loss: 0.4727\n",
      "Epoch 16/30\n",
      "\u001b[1m194/194\u001b[0m \u001b[32m━━━━━━━━━━━━━━━━━━━━\u001b[0m\u001b[37m\u001b[0m \u001b[1m339s\u001b[0m 2s/step - accuracy: 0.9137 - loss: 0.2819 - val_accuracy: 0.8432 - val_loss: 0.4753\n",
      "Epoch 17/30\n",
      "\u001b[1m194/194\u001b[0m \u001b[32m━━━━━━━━━━━━━━━━━━━━\u001b[0m\u001b[37m\u001b[0m \u001b[1m340s\u001b[0m 2s/step - accuracy: 0.9107 - loss: 0.2801 - val_accuracy: 0.8513 - val_loss: 0.4542\n",
      "Epoch 18/30\n",
      "\u001b[1m194/194\u001b[0m \u001b[32m━━━━━━━━━━━━━━━━━━━━\u001b[0m\u001b[37m\u001b[0m \u001b[1m338s\u001b[0m 2s/step - accuracy: 0.9138 - loss: 0.2732 - val_accuracy: 0.8397 - val_loss: 0.4757\n",
      "Epoch 19/30\n",
      "\u001b[1m194/194\u001b[0m \u001b[32m━━━━━━━━━━━━━━━━━━━━\u001b[0m\u001b[37m\u001b[0m \u001b[1m340s\u001b[0m 2s/step - accuracy: 0.9209 - loss: 0.2437 - val_accuracy: 0.8442 - val_loss: 0.4713\n",
      "Epoch 20/30\n",
      "\u001b[1m194/194\u001b[0m \u001b[32m━━━━━━━━━━━━━━━━━━━━\u001b[0m\u001b[37m\u001b[0m \u001b[1m339s\u001b[0m 2s/step - accuracy: 0.9224 - loss: 0.2544 - val_accuracy: 0.8574 - val_loss: 0.4505\n",
      "Epoch 21/30\n",
      "\u001b[1m194/194\u001b[0m \u001b[32m━━━━━━━━━━━━━━━━━━━━\u001b[0m\u001b[37m\u001b[0m \u001b[1m341s\u001b[0m 2s/step - accuracy: 0.9270 - loss: 0.2308 - val_accuracy: 0.8503 - val_loss: 0.4463\n",
      "Epoch 22/30\n",
      "\u001b[1m194/194\u001b[0m \u001b[32m━━━━━━━━━━━━━━━━━━━━\u001b[0m\u001b[37m\u001b[0m \u001b[1m340s\u001b[0m 2s/step - accuracy: 0.9258 - loss: 0.2357 - val_accuracy: 0.8552 - val_loss: 0.4441\n",
      "Epoch 23/30\n",
      "\u001b[1m194/194\u001b[0m \u001b[32m━━━━━━━━━━━━━━━━━━━━\u001b[0m\u001b[37m\u001b[0m \u001b[1m340s\u001b[0m 2s/step - accuracy: 0.9286 - loss: 0.2242 - val_accuracy: 0.8535 - val_loss: 0.4480\n",
      "Epoch 24/30\n",
      "\u001b[1m194/194\u001b[0m \u001b[32m━━━━━━━━━━━━━━━━━━━━\u001b[0m\u001b[37m\u001b[0m \u001b[1m340s\u001b[0m 2s/step - accuracy: 0.9343 - loss: 0.2204 - val_accuracy: 0.8484 - val_loss: 0.4737\n",
      "Epoch 25/30\n",
      "\u001b[1m194/194\u001b[0m \u001b[32m━━━━━━━━━━━━━━━━━━━━\u001b[0m\u001b[37m\u001b[0m \u001b[1m339s\u001b[0m 2s/step - accuracy: 0.9320 - loss: 0.2149 - val_accuracy: 0.8503 - val_loss: 0.4582\n",
      "Epoch 26/30\n",
      "\u001b[1m194/194\u001b[0m \u001b[32m━━━━━━━━━━━━━━━━━━━━\u001b[0m\u001b[37m\u001b[0m \u001b[1m338s\u001b[0m 2s/step - accuracy: 0.9354 - loss: 0.2008 - val_accuracy: 0.8594 - val_loss: 0.4393\n",
      "Epoch 27/30\n",
      "\u001b[1m194/194\u001b[0m \u001b[32m━━━━━━━━━━━━━━━━━━━━\u001b[0m\u001b[37m\u001b[0m \u001b[1m339s\u001b[0m 2s/step - accuracy: 0.9420 - loss: 0.1897 - val_accuracy: 0.8510 - val_loss: 0.4544\n",
      "Epoch 28/30\n",
      "\u001b[1m194/194\u001b[0m \u001b[32m━━━━━━━━━━━━━━━━━━━━\u001b[0m\u001b[37m\u001b[0m \u001b[1m339s\u001b[0m 2s/step - accuracy: 0.9402 - loss: 0.1922 - val_accuracy: 0.8513 - val_loss: 0.4590\n",
      "Epoch 29/30\n",
      "\u001b[1m194/194\u001b[0m \u001b[32m━━━━━━━━━━━━━━━━━━━━\u001b[0m\u001b[37m\u001b[0m \u001b[1m339s\u001b[0m 2s/step - accuracy: 0.9446 - loss: 0.1767 - val_accuracy: 0.8610 - val_loss: 0.4360\n",
      "Epoch 30/30\n",
      "\u001b[1m194/194\u001b[0m \u001b[32m━━━━━━━━━━━━━━━━━━━━\u001b[0m\u001b[37m\u001b[0m \u001b[1m341s\u001b[0m 2s/step - accuracy: 0.9456 - loss: 0.1809 - val_accuracy: 0.8581 - val_loss: 0.4382\n"
     ]
    }
   ],
   "source": [
    "history = model.fit(\n",
    "    train_generator,\n",
    "    epochs=30,\n",
    "    validation_data=validation_generator\n",
    ")"
   ]
  },
  {
   "cell_type": "markdown",
   "id": "40e411ef-0b6e-4b54-b656-7d507eac6d02",
   "metadata": {},
   "source": [
    "## Evaluate the model on validation data"
   ]
  },
  {
   "cell_type": "code",
   "execution_count": 21,
   "id": "091028f5-cb35-409e-bd97-90825446329d",
   "metadata": {},
   "outputs": [
    {
     "name": "stdout",
     "output_type": "stream",
     "text": [
      "\u001b[1m49/49\u001b[0m \u001b[32m━━━━━━━━━━━━━━━━━━━━\u001b[0m\u001b[37m\u001b[0m \u001b[1m64s\u001b[0m 1s/step - accuracy: 0.8616 - loss: 0.4408\n",
      "Validation Accuracy: 86.10%\n"
     ]
    }
   ],
   "source": [
    "val_loss, val_accuracy = model.evaluate(validation_generator)\n",
    "print(f'Validation Accuracy: {val_accuracy*100:.2f}%')"
   ]
  },
  {
   "cell_type": "markdown",
   "id": "185683e7-dedd-49b7-b7f8-3cc608fca4bf",
   "metadata": {},
   "source": [
    "## Save the trained model"
   ]
  },
  {
   "cell_type": "code",
   "execution_count": 17,
   "id": "bf2202a7-b462-4a14-a2e2-d47887d0d43f",
   "metadata": {},
   "outputs": [
    {
     "name": "stderr",
     "output_type": "stream",
     "text": [
      "WARNING:absl:You are saving your model as an HDF5 file via `model.save()` or `keras.saving.save_model(model)`. This file format is considered legacy. We recommend using instead the native Keras format, e.g. `model.save('my_model.keras')` or `keras.saving.save_model(model, 'my_model.keras')`. \n"
     ]
    }
   ],
   "source": [
    "model.save('Eco_Bin.h5')"
   ]
  },
  {
   "cell_type": "markdown",
   "id": "f1cc21c9-7b92-4234-a8ca-17cc9f4bb193",
   "metadata": {},
   "source": [
    "## Load the saved model and Predict on new Image"
   ]
  },
  {
   "cell_type": "code",
   "execution_count": 20,
   "id": "34b7838f-52b2-4552-863a-70a6870e5135",
   "metadata": {},
   "outputs": [
    {
     "name": "stderr",
     "output_type": "stream",
     "text": [
      "WARNING:absl:Compiled the loaded model, but the compiled metrics have yet to be built. `model.compile_metrics` will be empty until you train or evaluate the model.\n"
     ]
    },
    {
     "name": "stdout",
     "output_type": "stream",
     "text": [
      "WARNING:tensorflow:5 out of the last 5 calls to <function TensorFlowTrainer.make_predict_function.<locals>.one_step_on_data_distributed at 0x000002567EAE4E00> triggered tf.function retracing. Tracing is expensive and the excessive number of tracings could be due to (1) creating @tf.function repeatedly in a loop, (2) passing tensors with different shapes, (3) passing Python objects instead of tensors. For (1), please define your @tf.function outside of the loop. For (2), @tf.function has reduce_retracing=True option that can avoid unnecessary retracing. For (3), please refer to https://www.tensorflow.org/guide/function#controlling_retracing and https://www.tensorflow.org/api_docs/python/tf/function for  more details.\n"
     ]
    },
    {
     "name": "stderr",
     "output_type": "stream",
     "text": [
      "WARNING:tensorflow:5 out of the last 5 calls to <function TensorFlowTrainer.make_predict_function.<locals>.one_step_on_data_distributed at 0x000002567EAE4E00> triggered tf.function retracing. Tracing is expensive and the excessive number of tracings could be due to (1) creating @tf.function repeatedly in a loop, (2) passing tensors with different shapes, (3) passing Python objects instead of tensors. For (1), please define your @tf.function outside of the loop. For (2), @tf.function has reduce_retracing=True option that can avoid unnecessary retracing. For (3), please refer to https://www.tensorflow.org/guide/function#controlling_retracing and https://www.tensorflow.org/api_docs/python/tf/function for  more details.\n"
     ]
    },
    {
     "name": "stdout",
     "output_type": "stream",
     "text": [
      "\u001b[1m1/1\u001b[0m \u001b[32m━━━━━━━━━━━━━━━━━━━━\u001b[0m\u001b[37m\u001b[0m \u001b[1m0s\u001b[0m 170ms/step\n",
      "The Category of the Object is: green-glass\n"
     ]
    }
   ],
   "source": [
    "from keras.models import load_model\n",
    "import numpy as np\n",
    "from keras.preprocessing import image\n",
    "from PIL import Image\n",
    "\n",
    "# Load the model\n",
    "model = load_model('Eco_Bin.h5')\n",
    "\n",
    "# Define the class labels\n",
    "class_labels = [\n",
    "    'battery', 'biological', 'brown-glass', 'cardboard', 'clothes',\n",
    "    'green-glass', 'metal', 'paper', 'plastic', 'shoes', 'trash', 'white-glass'\n",
    "]\n",
    "\n",
    "# Predict on a new image\n",
    "img_path = r'C:\\Users\\Admin\\Documents\\Jupyter Notebook\\AI Project\\Test Set\\snake.jpg' \n",
    "\n",
    "# Preprocess the image\n",
    "img = Image.open(img_path)\n",
    "img = img.resize((128, 128))  \n",
    "\n",
    "# Check if the image is grayscale, (and convert to RGB if needed)\n",
    "if img.mode != \"RGB\":\n",
    "    img = img.convert(\"RGB\")\n",
    "\n",
    "img_array = image.img_to_array(img)\n",
    "img_array = np.expand_dims(img_array, axis=0)\n",
    "img_array /= 255.0\n",
    "\n",
    "# Get the predicted class index\n",
    "prediction = model.predict(img_array)\n",
    "predicted_class_index = np.argmax(prediction, axis=1)[0]\n",
    "\n",
    "# Map the index to the class name using class_labels\n",
    "predicted_class_name = class_labels[predicted_class_index]\n",
    "\n",
    "# Print the predicted class name\n",
    "print(f'The Category of the Object is: {predicted_class_name}')"
   ]
  }
 ],
 "metadata": {
  "kernelspec": {
   "display_name": "Python 3 (ipykernel)",
   "language": "python",
   "name": "python3"
  },
  "language_info": {
   "codemirror_mode": {
    "name": "ipython",
    "version": 3
   },
   "file_extension": ".py",
   "mimetype": "text/x-python",
   "name": "python",
   "nbconvert_exporter": "python",
   "pygments_lexer": "ipython3",
   "version": "3.12.8"
  }
 },
 "nbformat": 4,
 "nbformat_minor": 5
}
